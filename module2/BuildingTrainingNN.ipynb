{
  "nbformat": 4,
  "nbformat_minor": 0,
  "metadata": {
    "colab": {
      "provenance": []
    },
    "kernelspec": {
      "name": "python3",
      "display_name": "Python 3"
    },
    "language_info": {
      "name": "python"
    }
  },
  "cells": [
    {
      "cell_type": "code",
      "execution_count": null,
      "metadata": {
        "colab": {
          "base_uri": "https://localhost:8080/"
        },
        "id": "WZMIFNh9X35S",
        "outputId": "0179f790-1f07-4949-e483-94b1bdc61ba3"
      },
      "outputs": [
        {
          "output_type": "execute_result",
          "data": {
            "text/plain": [
              "device(type='cpu')"
            ]
          },
          "metadata": {},
          "execution_count": 1
        }
      ],
      "source": [
        "import torch\n",
        "import torch.nn as nn\n",
        "import torchvision.datasets\n",
        "from torchvision import transforms\n",
        "from torch.utils.data import DataLoader\n",
        "from torch.utils.data.sampler import SubsetRandomSampler\n",
        "import time, copy\n",
        "\n",
        "# device config (train our model on GPU if it is available which is much faster)\n",
        "device = torch.device('cuda' if torch.cuda.is_available() else 'cpu')\n",
        "device"
      ]
    },
    {
      "cell_type": "code",
      "source": [
        "# These transforms will be performed on every datapoint - in this example we want to transform every\n",
        "# datapoint to a Tensor datatype, and perform\n",
        "transform = transforms.Compose([transforms.ToTensor(), transforms.Normalize([0.5], [0.5])])\n",
        "mnist_train = torchvision.datasets.MNIST('', train=True, transform =transform, download=True)\n",
        "# We will split out train dataset into train and validation!\n",
        "mnist_train, mnist_val = torch.utils.data.random_split(mnist_train, [50000, 10000])\n",
        "mnist_test = torchvision.datasets.MNIST('', train=False, transform = transform, download=True)\n"
      ],
      "metadata": {
        "colab": {
          "base_uri": "https://localhost:8080/"
        },
        "id": "qIzKtd9TYA8V",
        "outputId": "26461c12-ee7d-4adc-f844-7edac8a9129c"
      },
      "execution_count": null,
      "outputs": [
        {
          "output_type": "stream",
          "name": "stdout",
          "text": [
            "Downloading http://yann.lecun.com/exdb/mnist/train-images-idx3-ubyte.gz\n",
            "Failed to download (trying next):\n",
            "HTTP Error 403: Forbidden\n",
            "\n",
            "Downloading https://ossci-datasets.s3.amazonaws.com/mnist/train-images-idx3-ubyte.gz\n",
            "Downloading https://ossci-datasets.s3.amazonaws.com/mnist/train-images-idx3-ubyte.gz to MNIST/raw/train-images-idx3-ubyte.gz\n"
          ]
        },
        {
          "output_type": "stream",
          "name": "stderr",
          "text": [
            "100%|██████████| 9.91M/9.91M [00:00<00:00, 120MB/s]\n"
          ]
        },
        {
          "output_type": "stream",
          "name": "stdout",
          "text": [
            "Extracting MNIST/raw/train-images-idx3-ubyte.gz to MNIST/raw\n",
            "\n",
            "Downloading http://yann.lecun.com/exdb/mnist/train-labels-idx1-ubyte.gz\n",
            "Failed to download (trying next):\n",
            "HTTP Error 403: Forbidden\n",
            "\n",
            "Downloading https://ossci-datasets.s3.amazonaws.com/mnist/train-labels-idx1-ubyte.gz\n",
            "Downloading https://ossci-datasets.s3.amazonaws.com/mnist/train-labels-idx1-ubyte.gz to MNIST/raw/train-labels-idx1-ubyte.gz\n"
          ]
        },
        {
          "output_type": "stream",
          "name": "stderr",
          "text": [
            "100%|██████████| 28.9k/28.9k [00:00<00:00, 41.6MB/s]"
          ]
        },
        {
          "output_type": "stream",
          "name": "stdout",
          "text": [
            "Extracting MNIST/raw/train-labels-idx1-ubyte.gz to MNIST/raw\n",
            "\n",
            "Downloading http://yann.lecun.com/exdb/mnist/t10k-images-idx3-ubyte.gz\n"
          ]
        },
        {
          "output_type": "stream",
          "name": "stderr",
          "text": [
            "\n"
          ]
        },
        {
          "output_type": "stream",
          "name": "stdout",
          "text": [
            "Failed to download (trying next):\n",
            "HTTP Error 403: Forbidden\n",
            "\n",
            "Downloading https://ossci-datasets.s3.amazonaws.com/mnist/t10k-images-idx3-ubyte.gz\n",
            "Downloading https://ossci-datasets.s3.amazonaws.com/mnist/t10k-images-idx3-ubyte.gz to MNIST/raw/t10k-images-idx3-ubyte.gz\n"
          ]
        },
        {
          "output_type": "stream",
          "name": "stderr",
          "text": [
            "100%|██████████| 1.65M/1.65M [00:00<00:00, 72.7MB/s]"
          ]
        },
        {
          "output_type": "stream",
          "name": "stdout",
          "text": [
            "Extracting MNIST/raw/t10k-images-idx3-ubyte.gz to MNIST/raw\n",
            "\n",
            "Downloading http://yann.lecun.com/exdb/mnist/t10k-labels-idx1-ubyte.gz\n"
          ]
        },
        {
          "output_type": "stream",
          "name": "stderr",
          "text": [
            "\n"
          ]
        },
        {
          "output_type": "stream",
          "name": "stdout",
          "text": [
            "Failed to download (trying next):\n",
            "HTTP Error 403: Forbidden\n",
            "\n",
            "Downloading https://ossci-datasets.s3.amazonaws.com/mnist/t10k-labels-idx1-ubyte.gz\n",
            "Downloading https://ossci-datasets.s3.amazonaws.com/mnist/t10k-labels-idx1-ubyte.gz to MNIST/raw/t10k-labels-idx1-ubyte.gz\n"
          ]
        },
        {
          "output_type": "stream",
          "name": "stderr",
          "text": [
            "100%|██████████| 4.54k/4.54k [00:00<00:00, 3.27MB/s]"
          ]
        },
        {
          "output_type": "stream",
          "name": "stdout",
          "text": [
            "Extracting MNIST/raw/t10k-labels-idx1-ubyte.gz to MNIST/raw\n",
            "\n"
          ]
        },
        {
          "output_type": "stream",
          "name": "stderr",
          "text": [
            "\n"
          ]
        }
      ]
    },
    {
      "cell_type": "code",
      "source": [],
      "metadata": {
        "id": "Fx7wrP6LaM1n"
      },
      "execution_count": null,
      "outputs": []
    },
    {
      "cell_type": "code",
      "source": [
        "# We will create DataLoaders just like before with a batch size of 100\n",
        "batch_size = 100\n",
        "dataloaders = {'train': DataLoader(mnist_train, batch_size=batch_size),\n",
        "               'val': DataLoader(mnist_val, batch_size=batch_size),\n",
        "               'test': DataLoader(mnist_test, batch_size=batch_size)}\n",
        "\n",
        "dataset_sizes = {'train': len(mnist_train),\n",
        "                 'val': len(mnist_val),\n",
        "                 'test': len(mnist_test)}\n",
        "print(f'dataset_sizes = {dataset_sizes}')"
      ],
      "metadata": {
        "colab": {
          "base_uri": "https://localhost:8080/"
        },
        "id": "DB8btgFWZ0hC",
        "outputId": "abb77095-91cc-4faa-ec3f-ade81ed2c6cd"
      },
      "execution_count": null,
      "outputs": [
        {
          "output_type": "stream",
          "name": "stdout",
          "text": [
            "dataset_sizes = {'train': 50000, 'val': 10000, 'test': 10000}\n"
          ]
        }
      ]
    },
    {
      "cell_type": "code",
      "source": [
        "# Hint! In the Module 3 Introduction to Pytorch notebook, the Network\n",
        "# we created required the input data to be of shape Nx1 where N is the number of\n",
        "# features. Currently, our MNIST dataset is shape 28x28 as they are images. Use\n",
        "# this code snippet as you iterate through the datapoint in your dataset to flatten\n",
        "# them so it is size 784x1 and can be used with the models we designed previously!\n",
        "\n",
        "# This loop only iterates through the \"train\" datapoints\n",
        "# In the previous notebook\n",
        "phases = [\"train\", \"val\", \"test\"]\n",
        "for phase in phases:\n",
        "  for inputs, labels in dataloaders[phase]:\n",
        "    # This flattens every every batch to the correct size!\n",
        "    inputs = inputs.view(inputs.shape[0],-1)"
      ],
      "metadata": {
        "id": "zXJzcnpHaN23"
      },
      "execution_count": null,
      "outputs": []
    },
    {
      "cell_type": "code",
      "source": [
        "len(inputs)"
      ],
      "metadata": {
        "colab": {
          "base_uri": "https://localhost:8080/"
        },
        "id": "JL5NAyf3hL5p",
        "outputId": "53387017-96a9-43e8-82a9-0dec2e812097"
      },
      "execution_count": null,
      "outputs": [
        {
          "output_type": "execute_result",
          "data": {
            "text/plain": [
              "100"
            ]
          },
          "metadata": {},
          "execution_count": 7
        }
      ]
    },
    {
      "cell_type": "code",
      "source": [
        "inputs"
      ],
      "metadata": {
        "colab": {
          "base_uri": "https://localhost:8080/"
        },
        "id": "auW7rTUzhD8V",
        "outputId": "17e89ec2-2325-4c6b-af92-5d4f259005bf"
      },
      "execution_count": null,
      "outputs": [
        {
          "output_type": "execute_result",
          "data": {
            "text/plain": [
              "tensor([[-1., -1., -1.,  ..., -1., -1., -1.],\n",
              "        [-1., -1., -1.,  ..., -1., -1., -1.],\n",
              "        [-1., -1., -1.,  ..., -1., -1., -1.],\n",
              "        ...,\n",
              "        [-1., -1., -1.,  ..., -1., -1., -1.],\n",
              "        [-1., -1., -1.,  ..., -1., -1., -1.],\n",
              "        [-1., -1., -1.,  ..., -1., -1., -1.]])"
            ]
          },
          "metadata": {},
          "execution_count": 5
        }
      ]
    },
    {
      "cell_type": "code",
      "source": [
        "labels"
      ],
      "metadata": {
        "colab": {
          "base_uri": "https://localhost:8080/"
        },
        "id": "rL2baaEOhHdb",
        "outputId": "f7ab0618-4569-4f94-c1a4-c8ed7ec97304"
      },
      "execution_count": null,
      "outputs": [
        {
          "output_type": "execute_result",
          "data": {
            "text/plain": [
              "tensor([8, 9, 0, 1, 2, 3, 4, 5, 6, 7, 8, 0, 1, 2, 3, 4, 7, 8, 9, 7, 8, 6, 4, 1,\n",
              "        9, 3, 8, 4, 4, 7, 0, 1, 9, 2, 8, 7, 8, 2, 6, 0, 6, 5, 3, 3, 3, 9, 1, 4,\n",
              "        0, 6, 1, 0, 0, 6, 2, 1, 1, 7, 7, 8, 4, 6, 0, 7, 0, 3, 6, 8, 7, 1, 5, 2,\n",
              "        4, 9, 4, 3, 6, 4, 1, 7, 2, 6, 5, 0, 1, 2, 3, 4, 5, 6, 7, 8, 9, 0, 1, 2,\n",
              "        3, 4, 5, 6])"
            ]
          },
          "metadata": {},
          "execution_count": 6
        }
      ]
    },
    {
      "cell_type": "code",
      "source": [
        "len(labels)"
      ],
      "metadata": {
        "colab": {
          "base_uri": "https://localhost:8080/"
        },
        "id": "KTJG0GDxhn6H",
        "outputId": "d0b5a0ee-5616-4a02-a1f9-c503f918b103"
      },
      "execution_count": null,
      "outputs": [
        {
          "output_type": "execute_result",
          "data": {
            "text/plain": [
              "100"
            ]
          },
          "metadata": {},
          "execution_count": 11
        }
      ]
    },
    {
      "cell_type": "code",
      "source": [
        "print(len(inputs[0]))"
      ],
      "metadata": {
        "colab": {
          "base_uri": "https://localhost:8080/"
        },
        "id": "v4yz-9KZhxNc",
        "outputId": "c1acfe5a-d6d1-4412-f3c7-8710d354925d"
      },
      "execution_count": null,
      "outputs": [
        {
          "output_type": "stream",
          "name": "stdout",
          "text": [
            "784\n"
          ]
        }
      ]
    },
    {
      "cell_type": "code",
      "source": [
        "type(mnist_val);\n",
        "subset = torch.utils.data.Subset(mnist_val, range(3))\n",
        "element = subset[0]\n",
        "print(len([-1.0000, -1.0000, -1.0000, -1.0000, -1.0000, -1.0000, -1.0000,\n",
        "          -1.0000, -1.0000, -1.0000, -1.0000, -1.0000, -1.0000, -1.0000,\n",
        "          -1.0000, -1.0000, -1.0000, -1.0000, -1.0000, -1.0000, -1.0000,\n",
        "          -1.0000, -1.0000, -1.0000, -1.0000, -1.0000, -1.0000, -1.0000]))\n",
        "print(len(element[0]), len(element[0][0]), len(element[0][0][0]))\n",
        "print(element[1])\n",
        "#print( len(element), len(element[0]), len(element[1]))"
      ],
      "metadata": {
        "colab": {
          "base_uri": "https://localhost:8080/"
        },
        "id": "qBZMiiSyh0Rp",
        "outputId": "f4a4dd4c-a6b7-4eac-eda6-f8dac47751ce"
      },
      "execution_count": null,
      "outputs": [
        {
          "output_type": "stream",
          "name": "stdout",
          "text": [
            "28\n",
            "1 28 28\n",
            "2\n"
          ]
        }
      ]
    },
    {
      "cell_type": "code",
      "source": [
        "# model architecture\n",
        "numerical_feature_columns = len(inputs[0])\n",
        "input_size = numerical_feature_columns\n",
        "#input_size = l # Make sure to remove the index column\n",
        "hidden_size1 = 64\n",
        "hidden_size2 = 64\n",
        "hidden_size3 = 64\n",
        "num_classes = 10\n",
        "\n",
        "# external training parameters\n",
        "# batch_size = 10\n",
        "learning_rate = 0.001\n",
        "num_epochs = 50"
      ],
      "metadata": {
        "id": "FZLUhPKYg8DW"
      },
      "execution_count": null,
      "outputs": []
    },
    {
      "cell_type": "code",
      "source": [
        "# Simple two-hidden-layer classification model\n",
        "class SimpleClassifier2Layer(nn.Module):\n",
        "    def __init__(self, input_size, hidden_size1, hidden_size2, num_classes):\n",
        "        super(SimpleClassifier2Layer, self).__init__()\n",
        "        self.layers = nn.Sequential(\n",
        "            nn.Linear(input_size, hidden_size1),\n",
        "            nn.ReLU(),\n",
        "            nn.Linear(hidden_size1, hidden_size2),\n",
        "            nn.ReLU(),\n",
        "            nn.Linear(hidden_size2, num_classes),\n",
        "        )\n",
        "\n",
        "    def forward(self, x):\n",
        "        return self.layers(x)\n",
        "\n",
        "# Simple three-hidden-layer classification model\n",
        "class SimpleClassifier3Layer(nn.Module):\n",
        "    def __init__(self, input_size, hidden_size1, hidden_size2, hidden_size3, num_classes):\n",
        "        super(SimpleClassifier3Layer, self).__init__()\n",
        "        self.layers = nn.Sequential(\n",
        "            nn.Linear(input_size, hidden_size1),\n",
        "            nn.ReLU(),\n",
        "            nn.Linear(hidden_size1, hidden_size2),\n",
        "            nn.ReLU(),\n",
        "            nn.Linear(hidden_size2, hidden_size3),\n",
        "            nn.ReLU(),\n",
        "            nn.Linear(hidden_size3, num_classes),\n",
        "        )\n",
        "\n",
        "    def forward(self, x):\n",
        "        return self.layers(x)"
      ],
      "metadata": {
        "id": "r4l8X8dbl36y"
      },
      "execution_count": null,
      "outputs": []
    },
    {
      "cell_type": "code",
      "source": [
        "def plot_training_curves(training_curves,\n",
        "                         phases=['train', 'val', 'test'],\n",
        "                         metrics=['loss','acc']):\n",
        "    epochs = list(range(len(training_curves['train_loss'])))\n",
        "    for metric in metrics:\n",
        "        plt.figure()\n",
        "        plt.title(f'Training curves - {metric}')\n",
        "        for phase in phases:\n",
        "            key = phase+'_'+metric\n",
        "            if key in training_curves:\n",
        "                plt.plot(epochs, training_curves[phase+'_'+metric])\n",
        "        plt.xlabel('epoch')\n",
        "        plt.legend(labels=phases)\n",
        "\n",
        "def classify_predictions(model, device, dataloader):\n",
        "    model.eval()   # Set model to evaluate mode\n",
        "    all_labels = torch.tensor([]).to(device)\n",
        "    all_scores = torch.tensor([]).to(device)\n",
        "    all_preds = torch.tensor([]).to(device)\n",
        "    for inputs, labels in dataloader:\n",
        "        inputs = inputs.to(device)\n",
        "        labels = labels.to(device)\n",
        "        outputs = torch.softmax(model(inputs),dim=1)\n",
        "        _, preds = torch.max(outputs, 1)\n",
        "        scores = outputs[:,1]\n",
        "        all_labels = torch.cat((all_labels, labels), 0)\n",
        "        all_scores = torch.cat((all_scores, scores), 0)\n",
        "        all_preds = torch.cat((all_preds, preds), 0)\n",
        "    return all_preds.detach().cpu(), all_labels.detach().cpu(), all_scores.detach().cpu()\n",
        "\n",
        "def plot_regression(model, device, dataloader):\n",
        "    preds, targets = regress_predictions(model, device, dataloader)\n",
        "    plt.figure()\n",
        "    plt.title(f'Regression results')\n",
        "    plt.scatter(targets, preds)\n",
        "    xmin = min(min(targets), min(preds))\n",
        "    xmax = max(max(targets), max(targets))\n",
        "    plt.plot([xmin, xmax], [xmin, xmax], 'black', linestyle='--', marker='')\n",
        "    plt.xlabel('target value')\n",
        "    plt.ylabel('prediced value')\n",
        "\n",
        "def regress_predictions(model, device, dataloader):\n",
        "    model.eval()   # Set model to evaluate mode\n",
        "    all_targets = torch.tensor([]).to(device)\n",
        "    all_preds = torch.tensor([]).to(device)\n",
        "    for inputs, targets in dataloader:\n",
        "        inputs = inputs.to(device)\n",
        "        targets = targets.to(device)\n",
        "        preds = model(inputs)\n",
        "        all_targets = torch.cat((all_targets, targets), 0)\n",
        "        all_preds = torch.cat((all_preds, preds), 0)\n",
        "    return all_preds.detach().cpu(), all_targets.detach().cpu()\n",
        "\n",
        "def plot_metrics(model, device, dataloaders, phase='test'):\n",
        "    preds, labels, scores = classify_predictions(model, device, dataloaders[phase])\n",
        "\n",
        "    fpr, tpr, thresholds = metrics.roc_curve(labels, scores)\n",
        "    auc = metrics.roc_auc_score(labels, preds)\n",
        "\n",
        "    disp = metrics.RocCurveDisplay(fpr=fpr, tpr=tpr, roc_auc=auc)\n",
        "    ind = np.argmin(np.abs(thresholds - 0.5))\n",
        "    ax = disp.plot().ax_\n",
        "    ax.scatter(fpr[ind], tpr[ind], color = 'red')\n",
        "    ax.set_title('ROC Curve (red dot at threshold = 0.5)')\n",
        "\n",
        "    cm = metrics.confusion_matrix(labels, preds)\n",
        "    disp = metrics.ConfusionMatrixDisplay(confusion_matrix=cm, display_labels=class_labels)\n",
        "    #disp = metrics.ConfusionMatrixDisplay(confusion_matrix=cm)\n",
        "    ax = disp.plot().ax_\n",
        "    ax.set_title('Confusion Matrix -- counts')\n",
        "\n",
        "    ncm = metrics.confusion_matrix(labels, preds, normalize='true')\n",
        "    disp = metrics.ConfusionMatrixDisplay(confusion_matrix=ncm)\n",
        "    ax = disp.plot().ax_\n",
        "    ax.set_title('Confusion Matrix -- rates')\n",
        "\n",
        "    TN, FP, FN, TP = cm[0,0], cm[0,1], cm[1,0], cm[1,1]\n",
        "    N, P = TN + FP, TP + FN\n",
        "    ACC = (TP + TN)/(P+N)\n",
        "    TPR, FPR, FNR, TNR = TP/P, FP/N, FN/P, TN/N\n",
        "    print(f'\\nAt default threshold:')\n",
        "    print(f' TN = {TN:5},  FP = {FP:5} -> N = {N:5}')\n",
        "    print(f' FN = {FN:5},  TP = {TP:5} -> P = {P:5}')\n",
        "    print(f'TNR = {TNR:5.3f}, FPR = {FPR:5.3f}')\n",
        "    print(f'FNR = {FNR:5.3f}, TPR = {TPR:5.3f}')\n",
        "    print(f'ACC = {ACC:6.3f}')\n",
        "\n",
        "    return cm, fpr, tpr, thresholds, auc"
      ],
      "metadata": {
        "id": "k0xZoI6AmWPD"
      },
      "execution_count": null,
      "outputs": []
    },
    {
      "cell_type": "code",
      "source": [
        "two_layer_model = SimpleClassifier2Layer(input_size, hidden_size1, hidden_size2, num_classes).to(device)\n",
        "print(two_layer_model)\n",
        "\n",
        "three_layer_model = SimpleClassifier3Layer(input_size, hidden_size1, hidden_size2, hidden_size3, num_classes).to(device)\n",
        "print(three_layer_model)"
      ],
      "metadata": {
        "colab": {
          "base_uri": "https://localhost:8080/"
        },
        "id": "FwE91u-knWav",
        "outputId": "f63b39ef-4504-4331-ad22-67c283bf0fd2"
      },
      "execution_count": null,
      "outputs": [
        {
          "output_type": "stream",
          "name": "stdout",
          "text": [
            "SimpleClassifier2Layer(\n",
            "  (layers): Sequential(\n",
            "    (0): Linear(in_features=784, out_features=64, bias=True)\n",
            "    (1): ReLU()\n",
            "    (2): Linear(in_features=64, out_features=64, bias=True)\n",
            "    (3): ReLU()\n",
            "    (4): Linear(in_features=64, out_features=10, bias=True)\n",
            "  )\n",
            ")\n",
            "SimpleClassifier3Layer(\n",
            "  (layers): Sequential(\n",
            "    (0): Linear(in_features=784, out_features=64, bias=True)\n",
            "    (1): ReLU()\n",
            "    (2): Linear(in_features=64, out_features=64, bias=True)\n",
            "    (3): ReLU()\n",
            "    (4): Linear(in_features=64, out_features=64, bias=True)\n",
            "    (5): ReLU()\n",
            "    (6): Linear(in_features=64, out_features=10, bias=True)\n",
            "  )\n",
            ")\n"
          ]
        }
      ]
    },
    {
      "cell_type": "code",
      "source": [
        "# From https://pytorch.org/tutorials/beginner/transfer_learning_tutorial.html\n",
        "\n",
        "def train_model(model, dataloaders, dataset_sizes, criterion, optimizer, scheduler, num_epochs=25):\n",
        "    since = time.time()\n",
        "\n",
        "    best_model_wts = copy.deepcopy(model.state_dict()) # keep the best weights stored separately\n",
        "    best_acc = 0.0\n",
        "    best_epoch = 0\n",
        "\n",
        "    # Each epoch has a training, validation, and test phase\n",
        "    phases = ['train', 'val', 'test']\n",
        "\n",
        "    # Keep track of how loss and accuracy evolves during training\n",
        "    training_curves = {}\n",
        "    for phase in phases:\n",
        "        training_curves[phase+'_loss'] = []\n",
        "        training_curves[phase+'_acc'] = []\n",
        "\n",
        "    for epoch in range(num_epochs):\n",
        "        print(f'\\nEpoch {epoch+1}/{num_epochs}')\n",
        "        print('-' * 10)\n",
        "\n",
        "        for phase in phases:\n",
        "            if phase == 'train':\n",
        "                model.train()  # Set model to training mode\n",
        "            else:\n",
        "                model.eval()   # Set model to evaluate mode\n",
        "\n",
        "            running_loss = 0.0\n",
        "            running_corrects = 0\n",
        "\n",
        "            # Iterate over data.\n",
        "            for inputs, labels in dataloaders[phase]:\n",
        "                # This ensures all of our datapoints are flattened\n",
        "                # before feeding them to our model\n",
        "                inputs = inputs.view(inputs.shape[0],-1)\n",
        "                inputs = inputs.to(device)\n",
        "                labels = labels.to(device)\n",
        "\n",
        "                # zero the parameter gradients\n",
        "                optimizer.zero_grad()\n",
        "\n",
        "                # forward\n",
        "                with torch.set_grad_enabled(phase == 'train'):\n",
        "                    outputs = model(inputs)\n",
        "                    _, predictions = torch.max(outputs, 1)\n",
        "                    loss = criterion(outputs, labels)\n",
        "\n",
        "                    # backward + update weights only if in training phase\n",
        "                    if phase == 'train':\n",
        "                        loss.backward()\n",
        "                        optimizer.step()\n",
        "\n",
        "                # statistics\n",
        "                running_loss += loss.item() * inputs.size(0)\n",
        "                running_corrects += torch.sum(predictions == labels.data)\n",
        "\n",
        "            if phase == 'train':\n",
        "                scheduler.step()\n",
        "\n",
        "            epoch_loss = running_loss / dataset_sizes[phase]\n",
        "            epoch_acc = running_corrects.double() / dataset_sizes[phase]\n",
        "            training_curves[phase+'_loss'].append(epoch_loss)\n",
        "            training_curves[phase+'_acc'].append(epoch_acc)\n",
        "\n",
        "            print(f'{phase:5} Loss: {epoch_loss:.4f} Acc: {epoch_acc:.4f}')\n",
        "\n",
        "            # deep copy the model if it's the best accuracy (based on validation)\n",
        "            if phase == 'val' and epoch_acc > best_acc:\n",
        "                best_epoch = epoch\n",
        "                best_acc = epoch_acc\n",
        "                best_model_wts = copy.deepcopy(model.state_dict())\n",
        "\n",
        "    time_elapsed = time.time() - since\n",
        "    print(f'\\nTraining complete in {time_elapsed // 60:.0f}m {time_elapsed % 60:.0f}s')\n",
        "    print(f'Best val Acc: {best_acc:4f} at epoch {best_epoch}')\n",
        "\n",
        "    # load best model weights\n",
        "    model.load_state_dict(best_model_wts)\n",
        "\n",
        "    return model, training_curves"
      ],
      "metadata": {
        "id": "3pH5q-rRoJUy"
      },
      "execution_count": null,
      "outputs": []
    },
    {
      "cell_type": "code",
      "source": [
        "# Two-hidden-Layer Training\n",
        "# loss and optimizer\n",
        "criterion = nn.CrossEntropyLoss() # CrossEntropyLoss for classification!\n",
        "optimizer = torch.optim.Adam(two_layer_model.parameters(), lr=learning_rate)\n",
        "scheduler = torch.optim.lr_scheduler.ExponentialLR(optimizer, gamma=0.95)\n",
        "\n",
        "# Train the model. We also will store the results of training to visualize\n",
        "two_layer_model, training_curves_two_layer = train_model(two_layer_model, dataloaders, dataset_sizes,\n",
        "                                     criterion, optimizer, scheduler, num_epochs=num_epochs)"
      ],
      "metadata": {
        "colab": {
          "base_uri": "https://localhost:8080/"
        },
        "id": "SGUAWrx0oPyP",
        "outputId": "686c7cc9-4136-43e6-95da-c51185226eb0"
      },
      "execution_count": null,
      "outputs": [
        {
          "output_type": "stream",
          "name": "stdout",
          "text": [
            "\n",
            "Epoch 1/50\n",
            "----------\n",
            "train Loss: 0.0436 Acc: 0.9848\n",
            "val   Loss: 0.1560 Acc: 0.9625\n",
            "test  Loss: 0.1461 Acc: 0.9653\n",
            "\n",
            "Epoch 2/50\n",
            "----------\n",
            "train Loss: 0.0343 Acc: 0.9874\n",
            "val   Loss: 0.1456 Acc: 0.9660\n",
            "test  Loss: 0.1351 Acc: 0.9654\n",
            "\n",
            "Epoch 3/50\n",
            "----------\n",
            "train Loss: 0.0338 Acc: 0.9877\n",
            "val   Loss: 0.1590 Acc: 0.9624\n",
            "test  Loss: 0.1412 Acc: 0.9646\n",
            "\n",
            "Epoch 4/50\n",
            "----------\n",
            "train Loss: 0.0283 Acc: 0.9902\n",
            "val   Loss: 0.1554 Acc: 0.9640\n",
            "test  Loss: 0.1441 Acc: 0.9658\n",
            "\n",
            "Epoch 5/50\n",
            "----------\n",
            "train Loss: 0.0270 Acc: 0.9909\n",
            "val   Loss: 0.1410 Acc: 0.9680\n",
            "test  Loss: 0.1288 Acc: 0.9695\n",
            "\n",
            "Epoch 6/50\n",
            "----------\n",
            "train Loss: 0.0227 Acc: 0.9922\n",
            "val   Loss: 0.1532 Acc: 0.9666\n",
            "test  Loss: 0.1371 Acc: 0.9682\n",
            "\n",
            "Epoch 7/50\n",
            "----------\n",
            "train Loss: 0.0218 Acc: 0.9927\n",
            "val   Loss: 0.1493 Acc: 0.9668\n",
            "test  Loss: 0.1390 Acc: 0.9669\n",
            "\n",
            "Epoch 8/50\n",
            "----------\n",
            "train Loss: 0.0185 Acc: 0.9941\n",
            "val   Loss: 0.1580 Acc: 0.9661\n",
            "test  Loss: 0.1426 Acc: 0.9681\n",
            "\n",
            "Epoch 9/50\n",
            "----------\n",
            "train Loss: 0.0172 Acc: 0.9943\n",
            "val   Loss: 0.1478 Acc: 0.9690\n",
            "test  Loss: 0.1288 Acc: 0.9702\n",
            "\n",
            "Epoch 10/50\n",
            "----------\n",
            "train Loss: 0.0148 Acc: 0.9955\n",
            "val   Loss: 0.1637 Acc: 0.9655\n",
            "test  Loss: 0.1431 Acc: 0.9681\n",
            "\n",
            "Epoch 11/50\n",
            "----------\n",
            "train Loss: 0.0133 Acc: 0.9961\n",
            "val   Loss: 0.1724 Acc: 0.9647\n",
            "test  Loss: 0.1509 Acc: 0.9674\n",
            "\n",
            "Epoch 12/50\n",
            "----------\n",
            "train Loss: 0.0121 Acc: 0.9964\n",
            "val   Loss: 0.1734 Acc: 0.9666\n",
            "test  Loss: 0.1464 Acc: 0.9681\n",
            "\n",
            "Epoch 13/50\n",
            "----------\n",
            "train Loss: 0.0119 Acc: 0.9964\n",
            "val   Loss: 0.1736 Acc: 0.9658\n",
            "test  Loss: 0.1497 Acc: 0.9677\n",
            "\n",
            "Epoch 14/50\n",
            "----------\n",
            "train Loss: 0.0106 Acc: 0.9970\n",
            "val   Loss: 0.1679 Acc: 0.9676\n",
            "test  Loss: 0.1449 Acc: 0.9685\n",
            "\n",
            "Epoch 15/50\n",
            "----------\n",
            "train Loss: 0.0097 Acc: 0.9973\n",
            "val   Loss: 0.1730 Acc: 0.9694\n",
            "test  Loss: 0.1462 Acc: 0.9687\n",
            "\n",
            "Epoch 16/50\n",
            "----------\n",
            "train Loss: 0.0102 Acc: 0.9971\n",
            "val   Loss: 0.1686 Acc: 0.9684\n",
            "test  Loss: 0.1448 Acc: 0.9691\n",
            "\n",
            "Epoch 17/50\n",
            "----------\n",
            "train Loss: 0.0069 Acc: 0.9983\n",
            "val   Loss: 0.1693 Acc: 0.9677\n",
            "test  Loss: 0.1427 Acc: 0.9702\n",
            "\n",
            "Epoch 18/50\n",
            "----------\n",
            "train Loss: 0.0073 Acc: 0.9982\n",
            "val   Loss: 0.1673 Acc: 0.9685\n",
            "test  Loss: 0.1483 Acc: 0.9701\n",
            "\n",
            "Epoch 19/50\n",
            "----------\n",
            "train Loss: 0.0077 Acc: 0.9977\n",
            "val   Loss: 0.1818 Acc: 0.9659\n",
            "test  Loss: 0.1521 Acc: 0.9715\n",
            "\n",
            "Epoch 20/50\n",
            "----------\n",
            "train Loss: 0.0065 Acc: 0.9986\n",
            "val   Loss: 0.1800 Acc: 0.9673\n",
            "test  Loss: 0.1649 Acc: 0.9678\n",
            "\n",
            "Epoch 21/50\n",
            "----------\n",
            "train Loss: 0.0054 Acc: 0.9988\n",
            "val   Loss: 0.1842 Acc: 0.9676\n",
            "test  Loss: 0.1606 Acc: 0.9681\n",
            "\n",
            "Epoch 22/50\n",
            "----------\n",
            "train Loss: 0.0045 Acc: 0.9992\n",
            "val   Loss: 0.1845 Acc: 0.9671\n",
            "test  Loss: 0.1631 Acc: 0.9679\n",
            "\n",
            "Epoch 23/50\n",
            "----------\n",
            "train Loss: 0.0041 Acc: 0.9995\n",
            "val   Loss: 0.1781 Acc: 0.9691\n",
            "test  Loss: 0.1545 Acc: 0.9691\n",
            "\n",
            "Epoch 24/50\n",
            "----------\n",
            "train Loss: 0.0053 Acc: 0.9990\n",
            "val   Loss: 0.1778 Acc: 0.9699\n",
            "test  Loss: 0.1556 Acc: 0.9693\n",
            "\n",
            "Epoch 25/50\n",
            "----------\n",
            "train Loss: 0.0043 Acc: 0.9994\n",
            "val   Loss: 0.1865 Acc: 0.9688\n",
            "test  Loss: 0.1676 Acc: 0.9679\n",
            "\n",
            "Epoch 26/50\n",
            "----------\n",
            "train Loss: 0.0037 Acc: 0.9993\n",
            "val   Loss: 0.1794 Acc: 0.9697\n",
            "test  Loss: 0.1565 Acc: 0.9703\n",
            "\n",
            "Epoch 27/50\n",
            "----------\n",
            "train Loss: 0.0031 Acc: 0.9997\n",
            "val   Loss: 0.1788 Acc: 0.9690\n",
            "test  Loss: 0.1563 Acc: 0.9700\n",
            "\n",
            "Epoch 28/50\n",
            "----------\n",
            "train Loss: 0.0036 Acc: 0.9994\n",
            "val   Loss: 0.1795 Acc: 0.9705\n",
            "test  Loss: 0.1573 Acc: 0.9706\n",
            "\n",
            "Epoch 29/50\n",
            "----------\n",
            "train Loss: 0.0033 Acc: 0.9995\n",
            "val   Loss: 0.1803 Acc: 0.9702\n",
            "test  Loss: 0.1556 Acc: 0.9705\n",
            "\n",
            "Epoch 30/50\n",
            "----------\n",
            "train Loss: 0.0027 Acc: 0.9997\n",
            "val   Loss: 0.1803 Acc: 0.9708\n",
            "test  Loss: 0.1564 Acc: 0.9709\n",
            "\n",
            "Epoch 31/50\n",
            "----------\n",
            "train Loss: 0.0022 Acc: 0.9999\n",
            "val   Loss: 0.1841 Acc: 0.9714\n",
            "test  Loss: 0.1559 Acc: 0.9711\n",
            "\n",
            "Epoch 32/50\n",
            "----------\n",
            "train Loss: 0.0021 Acc: 0.9999\n",
            "val   Loss: 0.1889 Acc: 0.9703\n",
            "test  Loss: 0.1557 Acc: 0.9714\n",
            "\n",
            "Epoch 33/50\n",
            "----------\n",
            "train Loss: 0.0019 Acc: 0.9999\n",
            "val   Loss: 0.1950 Acc: 0.9689\n",
            "test  Loss: 0.1641 Acc: 0.9697\n",
            "\n",
            "Epoch 34/50\n",
            "----------\n",
            "train Loss: 0.0018 Acc: 0.9999\n",
            "val   Loss: 0.1901 Acc: 0.9707\n",
            "test  Loss: 0.1654 Acc: 0.9704\n",
            "\n",
            "Epoch 35/50\n",
            "----------\n",
            "train Loss: 0.0015 Acc: 1.0000\n",
            "val   Loss: 0.1900 Acc: 0.9701\n",
            "test  Loss: 0.1631 Acc: 0.9705\n",
            "\n",
            "Epoch 36/50\n",
            "----------\n",
            "train Loss: 0.0014 Acc: 1.0000\n",
            "val   Loss: 0.1899 Acc: 0.9701\n",
            "test  Loss: 0.1639 Acc: 0.9704\n",
            "\n",
            "Epoch 37/50\n",
            "----------\n",
            "train Loss: 0.0012 Acc: 1.0000\n",
            "val   Loss: 0.1938 Acc: 0.9695\n",
            "test  Loss: 0.1665 Acc: 0.9699\n",
            "\n",
            "Epoch 38/50\n",
            "----------\n",
            "train Loss: 0.0011 Acc: 1.0000\n",
            "val   Loss: 0.1949 Acc: 0.9701\n",
            "test  Loss: 0.1673 Acc: 0.9699\n",
            "\n",
            "Epoch 39/50\n",
            "----------\n",
            "train Loss: 0.0010 Acc: 1.0000\n",
            "val   Loss: 0.1961 Acc: 0.9701\n",
            "test  Loss: 0.1688 Acc: 0.9700\n",
            "\n",
            "Epoch 40/50\n",
            "----------\n",
            "train Loss: 0.0009 Acc: 1.0000\n",
            "val   Loss: 0.1971 Acc: 0.9700\n",
            "test  Loss: 0.1696 Acc: 0.9697\n",
            "\n",
            "Epoch 41/50\n",
            "----------\n",
            "train Loss: 0.0008 Acc: 1.0000\n",
            "val   Loss: 0.1994 Acc: 0.9700\n",
            "test  Loss: 0.1704 Acc: 0.9701\n",
            "\n",
            "Epoch 42/50\n",
            "----------\n",
            "train Loss: 0.0008 Acc: 1.0000\n",
            "val   Loss: 0.2002 Acc: 0.9701\n",
            "test  Loss: 0.1714 Acc: 0.9701\n",
            "\n",
            "Epoch 43/50\n",
            "----------\n",
            "train Loss: 0.0007 Acc: 1.0000\n",
            "val   Loss: 0.2017 Acc: 0.9704\n",
            "test  Loss: 0.1722 Acc: 0.9700\n",
            "\n",
            "Epoch 44/50\n",
            "----------\n",
            "train Loss: 0.0007 Acc: 1.0000\n",
            "val   Loss: 0.2032 Acc: 0.9699\n",
            "test  Loss: 0.1744 Acc: 0.9697\n",
            "\n",
            "Epoch 45/50\n",
            "----------\n",
            "train Loss: 0.0006 Acc: 1.0000\n",
            "val   Loss: 0.2047 Acc: 0.9699\n",
            "test  Loss: 0.1748 Acc: 0.9703\n",
            "\n",
            "Epoch 46/50\n",
            "----------\n",
            "train Loss: 0.0006 Acc: 1.0000\n",
            "val   Loss: 0.2068 Acc: 0.9696\n",
            "test  Loss: 0.1773 Acc: 0.9705\n",
            "\n",
            "Epoch 47/50\n",
            "----------\n",
            "train Loss: 0.0005 Acc: 1.0000\n",
            "val   Loss: 0.2076 Acc: 0.9699\n",
            "test  Loss: 0.1776 Acc: 0.9704\n",
            "\n",
            "Epoch 48/50\n",
            "----------\n",
            "train Loss: 0.0005 Acc: 1.0000\n",
            "val   Loss: 0.2095 Acc: 0.9696\n",
            "test  Loss: 0.1788 Acc: 0.9705\n",
            "\n",
            "Epoch 49/50\n",
            "----------\n",
            "train Loss: 0.0005 Acc: 1.0000\n",
            "val   Loss: 0.2107 Acc: 0.9698\n",
            "test  Loss: 0.1802 Acc: 0.9705\n",
            "\n",
            "Epoch 50/50\n",
            "----------\n",
            "train Loss: 0.0005 Acc: 1.0000\n",
            "val   Loss: 0.2127 Acc: 0.9696\n",
            "test  Loss: 0.1806 Acc: 0.9706\n",
            "\n",
            "Training complete in 15m 9s\n",
            "Best val Acc: 0.971400 at epoch 30\n"
          ]
        }
      ]
    },
    {
      "cell_type": "code",
      "source": [
        "# Three-hidden-Layer Training\n",
        "# loss and optimizer\n",
        "criterion = nn.CrossEntropyLoss() # CrossEntropyLoss for classification!\n",
        "optimizer = torch.optim.Adam(three_layer_model.parameters(), lr=learning_rate)\n",
        "scheduler = torch.optim.lr_scheduler.ExponentialLR(optimizer, gamma=0.95)\n",
        "\n",
        "# Train the model. We also will store the results of training to visualize\n",
        "three_layer_model, training_curves_three_layer = train_model(three_layer_model, dataloaders, dataset_sizes,\n",
        "                                     criterion, optimizer, scheduler, num_epochs=num_epochs)"
      ],
      "metadata": {
        "id": "ysZc58Nho8R5",
        "colab": {
          "base_uri": "https://localhost:8080/"
        },
        "outputId": "3691e941-7076-46b6-e37a-8f41449c2410"
      },
      "execution_count": null,
      "outputs": [
        {
          "output_type": "stream",
          "name": "stdout",
          "text": [
            "\n",
            "Epoch 1/50\n",
            "----------\n",
            "train Loss: 0.5620 Acc: 0.8225\n",
            "val   Loss: 0.3141 Acc: 0.9068\n",
            "test  Loss: 0.2932 Acc: 0.9119\n",
            "\n",
            "Epoch 2/50\n",
            "----------\n",
            "train Loss: 0.2590 Acc: 0.9214\n",
            "val   Loss: 0.2264 Acc: 0.9335\n",
            "test  Loss: 0.2068 Acc: 0.9360\n",
            "\n",
            "Epoch 3/50\n",
            "----------\n",
            "train Loss: 0.2038 Acc: 0.9381\n",
            "val   Loss: 0.1941 Acc: 0.9426\n",
            "test  Loss: 0.1753 Acc: 0.9473\n",
            "\n",
            "Epoch 4/50\n",
            "----------\n",
            "train Loss: 0.1712 Acc: 0.9474\n",
            "val   Loss: 0.1709 Acc: 0.9472\n",
            "test  Loss: 0.1549 Acc: 0.9522\n",
            "\n",
            "Epoch 5/50\n",
            "----------\n",
            "train Loss: 0.1462 Acc: 0.9552\n",
            "val   Loss: 0.1556 Acc: 0.9518\n",
            "test  Loss: 0.1428 Acc: 0.9554\n",
            "\n",
            "Epoch 6/50\n",
            "----------\n",
            "train Loss: 0.1285 Acc: 0.9604\n",
            "val   Loss: 0.1446 Acc: 0.9564\n",
            "test  Loss: 0.1356 Acc: 0.9559\n",
            "\n",
            "Epoch 7/50\n",
            "----------\n",
            "train Loss: 0.1152 Acc: 0.9642\n",
            "val   Loss: 0.1405 Acc: 0.9571\n",
            "test  Loss: 0.1351 Acc: 0.9559\n",
            "\n",
            "Epoch 8/50\n",
            "----------\n",
            "train Loss: 0.1040 Acc: 0.9682\n",
            "val   Loss: 0.1420 Acc: 0.9562\n",
            "test  Loss: 0.1381 Acc: 0.9558\n",
            "\n",
            "Epoch 9/50\n",
            "----------\n",
            "train Loss: 0.0944 Acc: 0.9708\n",
            "val   Loss: 0.1399 Acc: 0.9569\n",
            "test  Loss: 0.1363 Acc: 0.9567\n",
            "\n",
            "Epoch 10/50\n",
            "----------\n",
            "train Loss: 0.0869 Acc: 0.9731\n",
            "val   Loss: 0.1324 Acc: 0.9589\n",
            "test  Loss: 0.1285 Acc: 0.9582\n",
            "\n",
            "Epoch 11/50\n",
            "----------\n",
            "train Loss: 0.0807 Acc: 0.9751\n",
            "val   Loss: 0.1262 Acc: 0.9611\n",
            "test  Loss: 0.1221 Acc: 0.9616\n",
            "\n",
            "Epoch 12/50\n",
            "----------\n",
            "train Loss: 0.0749 Acc: 0.9770\n",
            "val   Loss: 0.1294 Acc: 0.9602\n",
            "test  Loss: 0.1239 Acc: 0.9610\n",
            "\n",
            "Epoch 13/50\n",
            "----------\n",
            "train Loss: 0.0700 Acc: 0.9788\n",
            "val   Loss: 0.1301 Acc: 0.9607\n",
            "test  Loss: 0.1227 Acc: 0.9610\n",
            "\n",
            "Epoch 14/50\n",
            "----------\n",
            "train Loss: 0.0653 Acc: 0.9800\n",
            "val   Loss: 0.1273 Acc: 0.9611\n",
            "test  Loss: 0.1184 Acc: 0.9630\n",
            "\n",
            "Epoch 15/50\n",
            "----------\n",
            "train Loss: 0.0612 Acc: 0.9810\n",
            "val   Loss: 0.1246 Acc: 0.9618\n",
            "test  Loss: 0.1159 Acc: 0.9639\n",
            "\n",
            "Epoch 16/50\n",
            "----------\n",
            "train Loss: 0.0574 Acc: 0.9828\n",
            "val   Loss: 0.1215 Acc: 0.9632\n",
            "test  Loss: 0.1126 Acc: 0.9642\n",
            "\n",
            "Epoch 17/50\n",
            "----------\n",
            "train Loss: 0.0534 Acc: 0.9845\n",
            "val   Loss: 0.1179 Acc: 0.9645\n",
            "test  Loss: 0.1100 Acc: 0.9660\n",
            "\n",
            "Epoch 18/50\n",
            "----------\n",
            "train Loss: 0.0499 Acc: 0.9860\n",
            "val   Loss: 0.1171 Acc: 0.9648\n",
            "test  Loss: 0.1091 Acc: 0.9668\n",
            "\n",
            "Epoch 19/50\n",
            "----------\n",
            "train Loss: 0.0467 Acc: 0.9868\n",
            "val   Loss: 0.1148 Acc: 0.9669\n",
            "test  Loss: 0.1066 Acc: 0.9675\n",
            "\n",
            "Epoch 20/50\n",
            "----------\n",
            "train Loss: 0.0437 Acc: 0.9875\n",
            "val   Loss: 0.1160 Acc: 0.9666\n",
            "test  Loss: 0.1072 Acc: 0.9681\n",
            "\n",
            "Epoch 21/50\n",
            "----------\n",
            "train Loss: 0.0409 Acc: 0.9885\n",
            "val   Loss: 0.1187 Acc: 0.9665\n",
            "test  Loss: 0.1092 Acc: 0.9686\n",
            "\n",
            "Epoch 22/50\n",
            "----------\n",
            "train Loss: 0.0383 Acc: 0.9894\n",
            "val   Loss: 0.1196 Acc: 0.9669\n",
            "test  Loss: 0.1099 Acc: 0.9675\n",
            "\n",
            "Epoch 23/50\n",
            "----------\n",
            "train Loss: 0.0362 Acc: 0.9901\n",
            "val   Loss: 0.1207 Acc: 0.9667\n",
            "test  Loss: 0.1109 Acc: 0.9682\n",
            "\n",
            "Epoch 24/50\n",
            "----------\n",
            "train Loss: 0.0342 Acc: 0.9908\n",
            "val   Loss: 0.1219 Acc: 0.9663\n",
            "test  Loss: 0.1136 Acc: 0.9676\n",
            "\n",
            "Epoch 25/50\n",
            "----------\n",
            "train Loss: 0.0324 Acc: 0.9914\n",
            "val   Loss: 0.1215 Acc: 0.9676\n",
            "test  Loss: 0.1147 Acc: 0.9672\n",
            "\n",
            "Epoch 26/50\n",
            "----------\n",
            "train Loss: 0.0306 Acc: 0.9919\n",
            "val   Loss: 0.1222 Acc: 0.9668\n",
            "test  Loss: 0.1161 Acc: 0.9666\n",
            "\n",
            "Epoch 27/50\n",
            "----------\n",
            "train Loss: 0.0288 Acc: 0.9926\n",
            "val   Loss: 0.1229 Acc: 0.9664\n",
            "test  Loss: 0.1180 Acc: 0.9664\n",
            "\n",
            "Epoch 28/50\n",
            "----------\n",
            "train Loss: 0.0272 Acc: 0.9931\n",
            "val   Loss: 0.1235 Acc: 0.9674\n",
            "test  Loss: 0.1197 Acc: 0.9658\n",
            "\n",
            "Epoch 29/50\n",
            "----------\n",
            "train Loss: 0.0259 Acc: 0.9935\n",
            "val   Loss: 0.1248 Acc: 0.9673\n",
            "test  Loss: 0.1215 Acc: 0.9667\n",
            "\n",
            "Epoch 30/50\n",
            "----------\n",
            "train Loss: 0.0245 Acc: 0.9940\n",
            "val   Loss: 0.1262 Acc: 0.9667\n",
            "test  Loss: 0.1237 Acc: 0.9671\n",
            "\n",
            "Epoch 31/50\n",
            "----------\n",
            "train Loss: 0.0234 Acc: 0.9942\n",
            "val   Loss: 0.1282 Acc: 0.9660\n",
            "test  Loss: 0.1263 Acc: 0.9670\n",
            "\n",
            "Epoch 32/50\n",
            "----------\n",
            "train Loss: 0.0222 Acc: 0.9946\n",
            "val   Loss: 0.1292 Acc: 0.9663\n",
            "test  Loss: 0.1282 Acc: 0.9667\n",
            "\n",
            "Epoch 33/50\n",
            "----------\n",
            "train Loss: 0.0211 Acc: 0.9948\n",
            "val   Loss: 0.1319 Acc: 0.9661\n",
            "test  Loss: 0.1315 Acc: 0.9665\n",
            "\n",
            "Epoch 34/50\n",
            "----------\n",
            "train Loss: 0.0200 Acc: 0.9952\n",
            "val   Loss: 0.1341 Acc: 0.9663\n",
            "test  Loss: 0.1346 Acc: 0.9658\n",
            "\n",
            "Epoch 35/50\n",
            "----------\n",
            "train Loss: 0.0191 Acc: 0.9953\n",
            "val   Loss: 0.1357 Acc: 0.9667\n",
            "test  Loss: 0.1361 Acc: 0.9648\n",
            "\n",
            "Epoch 36/50\n",
            "----------\n",
            "train Loss: 0.0182 Acc: 0.9957\n",
            "val   Loss: 0.1371 Acc: 0.9665\n",
            "test  Loss: 0.1376 Acc: 0.9654\n",
            "\n",
            "Epoch 37/50\n",
            "----------\n",
            "train Loss: 0.0174 Acc: 0.9961\n",
            "val   Loss: 0.1385 Acc: 0.9672\n",
            "test  Loss: 0.1392 Acc: 0.9653\n",
            "\n",
            "Epoch 38/50\n",
            "----------\n",
            "train Loss: 0.0166 Acc: 0.9963\n",
            "val   Loss: 0.1389 Acc: 0.9673\n",
            "test  Loss: 0.1389 Acc: 0.9656\n",
            "\n",
            "Epoch 39/50\n",
            "----------\n",
            "train Loss: 0.0158 Acc: 0.9966\n",
            "val   Loss: 0.1393 Acc: 0.9677\n",
            "test  Loss: 0.1399 Acc: 0.9657\n",
            "\n",
            "Epoch 40/50\n",
            "----------\n",
            "train Loss: 0.0151 Acc: 0.9968\n",
            "val   Loss: 0.1400 Acc: 0.9679\n",
            "test  Loss: 0.1406 Acc: 0.9658\n",
            "\n",
            "Epoch 41/50\n",
            "----------\n",
            "train Loss: 0.0144 Acc: 0.9971\n",
            "val   Loss: 0.1404 Acc: 0.9679\n",
            "test  Loss: 0.1409 Acc: 0.9663\n",
            "\n",
            "Epoch 42/50\n",
            "----------\n",
            "train Loss: 0.0138 Acc: 0.9972\n",
            "val   Loss: 0.1411 Acc: 0.9680\n",
            "test  Loss: 0.1416 Acc: 0.9668\n",
            "\n",
            "Epoch 43/50\n",
            "----------\n",
            "train Loss: 0.0132 Acc: 0.9973\n",
            "val   Loss: 0.1410 Acc: 0.9681\n",
            "test  Loss: 0.1414 Acc: 0.9671\n",
            "\n",
            "Epoch 44/50\n",
            "----------\n",
            "train Loss: 0.0126 Acc: 0.9975\n",
            "val   Loss: 0.1420 Acc: 0.9690\n",
            "test  Loss: 0.1425 Acc: 0.9675\n",
            "\n",
            "Epoch 45/50\n",
            "----------\n",
            "train Loss: 0.0121 Acc: 0.9978\n",
            "val   Loss: 0.1419 Acc: 0.9689\n",
            "test  Loss: 0.1430 Acc: 0.9676\n",
            "\n",
            "Epoch 46/50\n",
            "----------\n",
            "train Loss: 0.0116 Acc: 0.9979\n",
            "val   Loss: 0.1416 Acc: 0.9690\n",
            "test  Loss: 0.1432 Acc: 0.9675\n",
            "\n",
            "Epoch 47/50\n",
            "----------\n",
            "train Loss: 0.0112 Acc: 0.9980\n",
            "val   Loss: 0.1421 Acc: 0.9689\n",
            "test  Loss: 0.1441 Acc: 0.9675\n",
            "\n",
            "Epoch 48/50\n",
            "----------\n",
            "train Loss: 0.0108 Acc: 0.9981\n",
            "val   Loss: 0.1421 Acc: 0.9691\n",
            "test  Loss: 0.1442 Acc: 0.9678\n",
            "\n",
            "Epoch 49/50\n",
            "----------\n",
            "train Loss: 0.0104 Acc: 0.9982\n",
            "val   Loss: 0.1418 Acc: 0.9690\n",
            "test  Loss: 0.1443 Acc: 0.9676\n",
            "\n",
            "Epoch 50/50\n",
            "----------\n",
            "train Loss: 0.0101 Acc: 0.9983\n",
            "val   Loss: 0.1424 Acc: 0.9690\n",
            "test  Loss: 0.1454 Acc: 0.9676\n",
            "\n",
            "Training complete in 15m 15s\n",
            "Best val Acc: 0.969100 at epoch 47\n"
          ]
        }
      ]
    },
    {
      "cell_type": "code",
      "source": [
        "# Training complete in 15m 9s\n",
        "# Bast val Acc: 0.9714 from two_layer, so plot two_layer\n",
        "import matplotlib.pyplot as plt\n",
        "\n",
        "plot_training_curves(training_curves_two_layer, phases=['train', 'val', 'test'])"
      ],
      "metadata": {
        "id": "yzu44WktpHZB",
        "colab": {
          "base_uri": "https://localhost:8080/",
          "height": 927
        },
        "outputId": "d92d31bd-d323-428b-e83e-64a1f9574260"
      },
      "execution_count": null,
      "outputs": [
        {
          "output_type": "display_data",
          "data": {
            "text/plain": [
              "<Figure size 640x480 with 1 Axes>"
            ],
            "image/png": "[encoded data removed]"
          },
          "metadata": {}
        },
        {
          "output_type": "display_data",
          "data": {
            "text/plain": [
              "<Figure size 640x480 with 1 Axes>"
            ],
            "image/png": "[encoded data removed]"
          },
          "metadata": {}
        }
      ]
    },
    {
      "cell_type": "code",
      "source": [
        "# Looking at this graph, we can see that our model is currently overfitting to the training dataset. As our blue training loss curve is steadily decreasing, we actually see that the validation loss increases."
      ],
      "metadata": {
        "id": "GTSduCGAzv5y"
      },
      "execution_count": null,
      "outputs": []
    },
    {
      "cell_type": "markdown",
      "source": [
        "Looking at this graph, we can see that our model is currently overfitting to the training dataset. As our blue training loss curve is steadily decreasing, we actually see that the validation/test loss increases."
      ],
      "metadata": {
        "id": "327OVTHe1qlZ"
      }
    },
    {
      "cell_type": "code",
      "source": [
        "res = plot_metrics(two_layer_model, device, dataloaders, phase='test')"
      ],
      "metadata": {
        "colab": {
          "base_uri": "https://localhost:8080/",
          "height": 293
        },
        "id": "5nlvq0bM2Jt3",
        "outputId": "a6f932d6-67c8-421d-b953-0b5c2fe546dc"
      },
      "execution_count": null,
      "outputs": [
        {
          "output_type": "error",
          "ename": "RuntimeError",
          "evalue": "mat1 and mat2 shapes cannot be multiplied (2800x28 and 784x64)",
          "traceback": [
            "\u001b[0;31m---------------------------------------------------------------------------\u001b[0m",
            "\u001b[0;31mRuntimeError\u001b[0m                              Traceback (most recent call last)",
            "\u001b[0;32m<ipython-input-46-316b488244b6>\u001b[0m in \u001b[0;36m<cell line: 1>\u001b[0;34m()\u001b[0m\n\u001b[0;32m----> 1\u001b[0;31m \u001b[0mres\u001b[0m \u001b[0;34m=\u001b[0m \u001b[0mplot_metrics\u001b[0m\u001b[0;34m(\u001b[0m\u001b[0mtwo_layer_model\u001b[0m\u001b[0;34m,\u001b[0m \u001b[0mdevice\u001b[0m\u001b[0;34m,\u001b[0m \u001b[0mdataloaders\u001b[0m\u001b[0;34m,\u001b[0m \u001b[0mphase\u001b[0m\u001b[0;34m=\u001b[0m\u001b[0;34m'test'\u001b[0m\u001b[0;34m)\u001b[0m\u001b[0;34m\u001b[0m\u001b[0;34m\u001b[0m\u001b[0m\n\u001b[0m",
            "\u001b[0;32m<ipython-input-32-52c6b024b91d>\u001b[0m in \u001b[0;36mplot_metrics\u001b[0;34m(model, device, dataloaders, phase)\u001b[0m\n\u001b[1;32m     53\u001b[0m \u001b[0;34m\u001b[0m\u001b[0m\n\u001b[1;32m     54\u001b[0m \u001b[0;32mdef\u001b[0m \u001b[0mplot_metrics\u001b[0m\u001b[0;34m(\u001b[0m\u001b[0mmodel\u001b[0m\u001b[0;34m,\u001b[0m \u001b[0mdevice\u001b[0m\u001b[0;34m,\u001b[0m \u001b[0mdataloaders\u001b[0m\u001b[0;34m,\u001b[0m \u001b[0mphase\u001b[0m\u001b[0;34m=\u001b[0m\u001b[0;34m'test'\u001b[0m\u001b[0;34m)\u001b[0m\u001b[0;34m:\u001b[0m\u001b[0;34m\u001b[0m\u001b[0;34m\u001b[0m\u001b[0m\n\u001b[0;32m---> 55\u001b[0;31m     \u001b[0mpreds\u001b[0m\u001b[0;34m,\u001b[0m \u001b[0mlabels\u001b[0m\u001b[0;34m,\u001b[0m \u001b[0mscores\u001b[0m \u001b[0;34m=\u001b[0m \u001b[0mclassify_predictions\u001b[0m\u001b[0;34m(\u001b[0m\u001b[0mmodel\u001b[0m\u001b[0;34m,\u001b[0m \u001b[0mdevice\u001b[0m\u001b[0;34m,\u001b[0m \u001b[0mdataloaders\u001b[0m\u001b[0;34m[\u001b[0m\u001b[0mphase\u001b[0m\u001b[0;34m]\u001b[0m\u001b[0;34m)\u001b[0m\u001b[0;34m\u001b[0m\u001b[0;34m\u001b[0m\u001b[0m\n\u001b[0m\u001b[1;32m     56\u001b[0m \u001b[0;34m\u001b[0m\u001b[0m\n\u001b[1;32m     57\u001b[0m     \u001b[0mfpr\u001b[0m\u001b[0;34m,\u001b[0m \u001b[0mtpr\u001b[0m\u001b[0;34m,\u001b[0m \u001b[0mthresholds\u001b[0m \u001b[0;34m=\u001b[0m \u001b[0mmetrics\u001b[0m\u001b[0;34m.\u001b[0m\u001b[0mroc_curve\u001b[0m\u001b[0;34m(\u001b[0m\u001b[0mlabels\u001b[0m\u001b[0;34m,\u001b[0m \u001b[0mscores\u001b[0m\u001b[0;34m)\u001b[0m\u001b[0;34m\u001b[0m\u001b[0;34m\u001b[0m\u001b[0m\n",
            "\u001b[0;32m<ipython-input-32-52c6b024b91d>\u001b[0m in \u001b[0;36mclassify_predictions\u001b[0;34m(model, device, dataloader)\u001b[0m\n\u001b[1;32m     21\u001b[0m         \u001b[0minputs\u001b[0m \u001b[0;34m=\u001b[0m \u001b[0minputs\u001b[0m\u001b[0;34m.\u001b[0m\u001b[0mto\u001b[0m\u001b[0;34m(\u001b[0m\u001b[0mdevice\u001b[0m\u001b[0;34m)\u001b[0m\u001b[0;34m\u001b[0m\u001b[0;34m\u001b[0m\u001b[0m\n\u001b[1;32m     22\u001b[0m         \u001b[0mlabels\u001b[0m \u001b[0;34m=\u001b[0m \u001b[0mlabels\u001b[0m\u001b[0;34m.\u001b[0m\u001b[0mto\u001b[0m\u001b[0;34m(\u001b[0m\u001b[0mdevice\u001b[0m\u001b[0;34m)\u001b[0m\u001b[0;34m\u001b[0m\u001b[0;34m\u001b[0m\u001b[0m\n\u001b[0;32m---> 23\u001b[0;31m         \u001b[0moutputs\u001b[0m \u001b[0;34m=\u001b[0m \u001b[0mtorch\u001b[0m\u001b[0;34m.\u001b[0m\u001b[0msoftmax\u001b[0m\u001b[0;34m(\u001b[0m\u001b[0mmodel\u001b[0m\u001b[0;34m(\u001b[0m\u001b[0minputs\u001b[0m\u001b[0;34m)\u001b[0m\u001b[0;34m,\u001b[0m\u001b[0mdim\u001b[0m\u001b[0;34m=\u001b[0m\u001b[0;36m1\u001b[0m\u001b[0;34m)\u001b[0m\u001b[0;34m\u001b[0m\u001b[0;34m\u001b[0m\u001b[0m\n\u001b[0m\u001b[1;32m     24\u001b[0m         \u001b[0m_\u001b[0m\u001b[0;34m,\u001b[0m \u001b[0mpreds\u001b[0m \u001b[0;34m=\u001b[0m \u001b[0mtorch\u001b[0m\u001b[0;34m.\u001b[0m\u001b[0mmax\u001b[0m\u001b[0;34m(\u001b[0m\u001b[0moutputs\u001b[0m\u001b[0;34m,\u001b[0m \u001b[0;36m1\u001b[0m\u001b[0;34m)\u001b[0m\u001b[0;34m\u001b[0m\u001b[0;34m\u001b[0m\u001b[0m\n\u001b[1;32m     25\u001b[0m         \u001b[0mscores\u001b[0m \u001b[0;34m=\u001b[0m \u001b[0moutputs\u001b[0m\u001b[0;34m[\u001b[0m\u001b[0;34m:\u001b[0m\u001b[0;34m,\u001b[0m\u001b[0;36m1\u001b[0m\u001b[0;34m]\u001b[0m\u001b[0;34m\u001b[0m\u001b[0;34m\u001b[0m\u001b[0m\n",
            "\u001b[0;32m/usr/local/lib/python3.10/dist-packages/torch/nn/modules/module.py\u001b[0m in \u001b[0;36m_wrapped_call_impl\u001b[0;34m(self, *args, **kwargs)\u001b[0m\n\u001b[1;32m   1734\u001b[0m             \u001b[0;32mreturn\u001b[0m \u001b[0mself\u001b[0m\u001b[0;34m.\u001b[0m\u001b[0m_compiled_call_impl\u001b[0m\u001b[0;34m(\u001b[0m\u001b[0;34m*\u001b[0m\u001b[0margs\u001b[0m\u001b[0;34m,\u001b[0m \u001b[0;34m**\u001b[0m\u001b[0mkwargs\u001b[0m\u001b[0;34m)\u001b[0m  \u001b[0;31m# type: ignore[misc]\u001b[0m\u001b[0;34m\u001b[0m\u001b[0;34m\u001b[0m\u001b[0m\n\u001b[1;32m   1735\u001b[0m         \u001b[0;32melse\u001b[0m\u001b[0;34m:\u001b[0m\u001b[0;34m\u001b[0m\u001b[0;34m\u001b[0m\u001b[0m\n\u001b[0;32m-> 1736\u001b[0;31m             \u001b[0;32mreturn\u001b[0m \u001b[0mself\u001b[0m\u001b[0;34m.\u001b[0m\u001b[0m_call_impl\u001b[0m\u001b[0;34m(\u001b[0m\u001b[0;34m*\u001b[0m\u001b[0margs\u001b[0m\u001b[0;34m,\u001b[0m \u001b[0;34m**\u001b[0m\u001b[0mkwargs\u001b[0m\u001b[0;34m)\u001b[0m\u001b[0;34m\u001b[0m\u001b[0;34m\u001b[0m\u001b[0m\n\u001b[0m\u001b[1;32m   1737\u001b[0m \u001b[0;34m\u001b[0m\u001b[0m\n\u001b[1;32m   1738\u001b[0m     \u001b[0;31m# torchrec tests the code consistency with the following code\u001b[0m\u001b[0;34m\u001b[0m\u001b[0;34m\u001b[0m\u001b[0m\n",
            "\u001b[0;32m/usr/local/lib/python3.10/dist-packages/torch/nn/modules/module.py\u001b[0m in \u001b[0;36m_call_impl\u001b[0;34m(self, *args, **kwargs)\u001b[0m\n\u001b[1;32m   1745\u001b[0m                 \u001b[0;32mor\u001b[0m \u001b[0m_global_backward_pre_hooks\u001b[0m \u001b[0;32mor\u001b[0m \u001b[0m_global_backward_hooks\u001b[0m\u001b[0;34m\u001b[0m\u001b[0;34m\u001b[0m\u001b[0m\n\u001b[1;32m   1746\u001b[0m                 or _global_forward_hooks or _global_forward_pre_hooks):\n\u001b[0;32m-> 1747\u001b[0;31m             \u001b[0;32mreturn\u001b[0m \u001b[0mforward_call\u001b[0m\u001b[0;34m(\u001b[0m\u001b[0;34m*\u001b[0m\u001b[0margs\u001b[0m\u001b[0;34m,\u001b[0m \u001b[0;34m**\u001b[0m\u001b[0mkwargs\u001b[0m\u001b[0;34m)\u001b[0m\u001b[0;34m\u001b[0m\u001b[0;34m\u001b[0m\u001b[0m\n\u001b[0m\u001b[1;32m   1748\u001b[0m \u001b[0;34m\u001b[0m\u001b[0m\n\u001b[1;32m   1749\u001b[0m         \u001b[0mresult\u001b[0m \u001b[0;34m=\u001b[0m \u001b[0;32mNone\u001b[0m\u001b[0;34m\u001b[0m\u001b[0;34m\u001b[0m\u001b[0m\n",
            "\u001b[0;32m<ipython-input-31-8b4c307691c2>\u001b[0m in \u001b[0;36mforward\u001b[0;34m(self, x)\u001b[0m\n\u001b[1;32m     12\u001b[0m \u001b[0;34m\u001b[0m\u001b[0m\n\u001b[1;32m     13\u001b[0m     \u001b[0;32mdef\u001b[0m \u001b[0mforward\u001b[0m\u001b[0;34m(\u001b[0m\u001b[0mself\u001b[0m\u001b[0;34m,\u001b[0m \u001b[0mx\u001b[0m\u001b[0;34m)\u001b[0m\u001b[0;34m:\u001b[0m\u001b[0;34m\u001b[0m\u001b[0;34m\u001b[0m\u001b[0m\n\u001b[0;32m---> 14\u001b[0;31m         \u001b[0;32mreturn\u001b[0m \u001b[0mself\u001b[0m\u001b[0;34m.\u001b[0m\u001b[0mlayers\u001b[0m\u001b[0;34m(\u001b[0m\u001b[0mx\u001b[0m\u001b[0;34m)\u001b[0m\u001b[0;34m\u001b[0m\u001b[0;34m\u001b[0m\u001b[0m\n\u001b[0m\u001b[1;32m     15\u001b[0m \u001b[0;34m\u001b[0m\u001b[0m\n\u001b[1;32m     16\u001b[0m \u001b[0;31m# Simple three-hidden-layer classification model\u001b[0m\u001b[0;34m\u001b[0m\u001b[0;34m\u001b[0m\u001b[0m\n",
            "\u001b[0;32m/usr/local/lib/python3.10/dist-packages/torch/nn/modules/module.py\u001b[0m in \u001b[0;36m_wrapped_call_impl\u001b[0;34m(self, *args, **kwargs)\u001b[0m\n\u001b[1;32m   1734\u001b[0m             \u001b[0;32mreturn\u001b[0m \u001b[0mself\u001b[0m\u001b[0;34m.\u001b[0m\u001b[0m_compiled_call_impl\u001b[0m\u001b[0;34m(\u001b[0m\u001b[0;34m*\u001b[0m\u001b[0margs\u001b[0m\u001b[0;34m,\u001b[0m \u001b[0;34m**\u001b[0m\u001b[0mkwargs\u001b[0m\u001b[0;34m)\u001b[0m  \u001b[0;31m# type: ignore[misc]\u001b[0m\u001b[0;34m\u001b[0m\u001b[0;34m\u001b[0m\u001b[0m\n\u001b[1;32m   1735\u001b[0m         \u001b[0;32melse\u001b[0m\u001b[0;34m:\u001b[0m\u001b[0;34m\u001b[0m\u001b[0;34m\u001b[0m\u001b[0m\n\u001b[0;32m-> 1736\u001b[0;31m             \u001b[0;32mreturn\u001b[0m \u001b[0mself\u001b[0m\u001b[0;34m.\u001b[0m\u001b[0m_call_impl\u001b[0m\u001b[0;34m(\u001b[0m\u001b[0;34m*\u001b[0m\u001b[0margs\u001b[0m\u001b[0;34m,\u001b[0m \u001b[0;34m**\u001b[0m\u001b[0mkwargs\u001b[0m\u001b[0;34m)\u001b[0m\u001b[0;34m\u001b[0m\u001b[0;34m\u001b[0m\u001b[0m\n\u001b[0m\u001b[1;32m   1737\u001b[0m \u001b[0;34m\u001b[0m\u001b[0m\n\u001b[1;32m   1738\u001b[0m     \u001b[0;31m# torchrec tests the code consistency with the following code\u001b[0m\u001b[0;34m\u001b[0m\u001b[0;34m\u001b[0m\u001b[0m\n",
            "\u001b[0;32m/usr/local/lib/python3.10/dist-packages/torch/nn/modules/module.py\u001b[0m in \u001b[0;36m_call_impl\u001b[0;34m(self, *args, **kwargs)\u001b[0m\n\u001b[1;32m   1745\u001b[0m                 \u001b[0;32mor\u001b[0m \u001b[0m_global_backward_pre_hooks\u001b[0m \u001b[0;32mor\u001b[0m \u001b[0m_global_backward_hooks\u001b[0m\u001b[0;34m\u001b[0m\u001b[0;34m\u001b[0m\u001b[0m\n\u001b[1;32m   1746\u001b[0m                 or _global_forward_hooks or _global_forward_pre_hooks):\n\u001b[0;32m-> 1747\u001b[0;31m             \u001b[0;32mreturn\u001b[0m \u001b[0mforward_call\u001b[0m\u001b[0;34m(\u001b[0m\u001b[0;34m*\u001b[0m\u001b[0margs\u001b[0m\u001b[0;34m,\u001b[0m \u001b[0;34m**\u001b[0m\u001b[0mkwargs\u001b[0m\u001b[0;34m)\u001b[0m\u001b[0;34m\u001b[0m\u001b[0;34m\u001b[0m\u001b[0m\n\u001b[0m\u001b[1;32m   1748\u001b[0m \u001b[0;34m\u001b[0m\u001b[0m\n\u001b[1;32m   1749\u001b[0m         \u001b[0mresult\u001b[0m \u001b[0;34m=\u001b[0m \u001b[0;32mNone\u001b[0m\u001b[0;34m\u001b[0m\u001b[0;34m\u001b[0m\u001b[0m\n",
            "\u001b[0;32m/usr/local/lib/python3.10/dist-packages/torch/nn/modules/container.py\u001b[0m in \u001b[0;36mforward\u001b[0;34m(self, input)\u001b[0m\n\u001b[1;32m    248\u001b[0m     \u001b[0;32mdef\u001b[0m \u001b[0mforward\u001b[0m\u001b[0;34m(\u001b[0m\u001b[0mself\u001b[0m\u001b[0;34m,\u001b[0m \u001b[0minput\u001b[0m\u001b[0;34m)\u001b[0m\u001b[0;34m:\u001b[0m\u001b[0;34m\u001b[0m\u001b[0;34m\u001b[0m\u001b[0m\n\u001b[1;32m    249\u001b[0m         \u001b[0;32mfor\u001b[0m \u001b[0mmodule\u001b[0m \u001b[0;32min\u001b[0m \u001b[0mself\u001b[0m\u001b[0;34m:\u001b[0m\u001b[0;34m\u001b[0m\u001b[0;34m\u001b[0m\u001b[0m\n\u001b[0;32m--> 250\u001b[0;31m             \u001b[0minput\u001b[0m \u001b[0;34m=\u001b[0m \u001b[0mmodule\u001b[0m\u001b[0;34m(\u001b[0m\u001b[0minput\u001b[0m\u001b[0;34m)\u001b[0m\u001b[0;34m\u001b[0m\u001b[0;34m\u001b[0m\u001b[0m\n\u001b[0m\u001b[1;32m    251\u001b[0m         \u001b[0;32mreturn\u001b[0m \u001b[0minput\u001b[0m\u001b[0;34m\u001b[0m\u001b[0;34m\u001b[0m\u001b[0m\n\u001b[1;32m    252\u001b[0m \u001b[0;34m\u001b[0m\u001b[0m\n",
            "\u001b[0;32m/usr/local/lib/python3.10/dist-packages/torch/nn/modules/module.py\u001b[0m in \u001b[0;36m_wrapped_call_impl\u001b[0;34m(self, *args, **kwargs)\u001b[0m\n\u001b[1;32m   1734\u001b[0m             \u001b[0;32mreturn\u001b[0m \u001b[0mself\u001b[0m\u001b[0;34m.\u001b[0m\u001b[0m_compiled_call_impl\u001b[0m\u001b[0;34m(\u001b[0m\u001b[0;34m*\u001b[0m\u001b[0margs\u001b[0m\u001b[0;34m,\u001b[0m \u001b[0;34m**\u001b[0m\u001b[0mkwargs\u001b[0m\u001b[0;34m)\u001b[0m  \u001b[0;31m# type: ignore[misc]\u001b[0m\u001b[0;34m\u001b[0m\u001b[0;34m\u001b[0m\u001b[0m\n\u001b[1;32m   1735\u001b[0m         \u001b[0;32melse\u001b[0m\u001b[0;34m:\u001b[0m\u001b[0;34m\u001b[0m\u001b[0;34m\u001b[0m\u001b[0m\n\u001b[0;32m-> 1736\u001b[0;31m             \u001b[0;32mreturn\u001b[0m \u001b[0mself\u001b[0m\u001b[0;34m.\u001b[0m\u001b[0m_call_impl\u001b[0m\u001b[0;34m(\u001b[0m\u001b[0;34m*\u001b[0m\u001b[0margs\u001b[0m\u001b[0;34m,\u001b[0m \u001b[0;34m**\u001b[0m\u001b[0mkwargs\u001b[0m\u001b[0;34m)\u001b[0m\u001b[0;34m\u001b[0m\u001b[0;34m\u001b[0m\u001b[0m\n\u001b[0m\u001b[1;32m   1737\u001b[0m \u001b[0;34m\u001b[0m\u001b[0m\n\u001b[1;32m   1738\u001b[0m     \u001b[0;31m# torchrec tests the code consistency with the following code\u001b[0m\u001b[0;34m\u001b[0m\u001b[0;34m\u001b[0m\u001b[0m\n",
            "\u001b[0;32m/usr/local/lib/python3.10/dist-packages/torch/nn/modules/module.py\u001b[0m in \u001b[0;36m_call_impl\u001b[0;34m(self, *args, **kwargs)\u001b[0m\n\u001b[1;32m   1745\u001b[0m                 \u001b[0;32mor\u001b[0m \u001b[0m_global_backward_pre_hooks\u001b[0m \u001b[0;32mor\u001b[0m \u001b[0m_global_backward_hooks\u001b[0m\u001b[0;34m\u001b[0m\u001b[0;34m\u001b[0m\u001b[0m\n\u001b[1;32m   1746\u001b[0m                 or _global_forward_hooks or _global_forward_pre_hooks):\n\u001b[0;32m-> 1747\u001b[0;31m             \u001b[0;32mreturn\u001b[0m \u001b[0mforward_call\u001b[0m\u001b[0;34m(\u001b[0m\u001b[0;34m*\u001b[0m\u001b[0margs\u001b[0m\u001b[0;34m,\u001b[0m \u001b[0;34m**\u001b[0m\u001b[0mkwargs\u001b[0m\u001b[0;34m)\u001b[0m\u001b[0;34m\u001b[0m\u001b[0;34m\u001b[0m\u001b[0m\n\u001b[0m\u001b[1;32m   1748\u001b[0m \u001b[0;34m\u001b[0m\u001b[0m\n\u001b[1;32m   1749\u001b[0m         \u001b[0mresult\u001b[0m \u001b[0;34m=\u001b[0m \u001b[0;32mNone\u001b[0m\u001b[0;34m\u001b[0m\u001b[0;34m\u001b[0m\u001b[0m\n",
            "\u001b[0;32m/usr/local/lib/python3.10/dist-packages/torch/nn/modules/linear.py\u001b[0m in \u001b[0;36mforward\u001b[0;34m(self, input)\u001b[0m\n\u001b[1;32m    123\u001b[0m \u001b[0;34m\u001b[0m\u001b[0m\n\u001b[1;32m    124\u001b[0m     \u001b[0;32mdef\u001b[0m \u001b[0mforward\u001b[0m\u001b[0;34m(\u001b[0m\u001b[0mself\u001b[0m\u001b[0;34m,\u001b[0m \u001b[0minput\u001b[0m\u001b[0;34m:\u001b[0m \u001b[0mTensor\u001b[0m\u001b[0;34m)\u001b[0m \u001b[0;34m->\u001b[0m \u001b[0mTensor\u001b[0m\u001b[0;34m:\u001b[0m\u001b[0;34m\u001b[0m\u001b[0;34m\u001b[0m\u001b[0m\n\u001b[0;32m--> 125\u001b[0;31m         \u001b[0;32mreturn\u001b[0m \u001b[0mF\u001b[0m\u001b[0;34m.\u001b[0m\u001b[0mlinear\u001b[0m\u001b[0;34m(\u001b[0m\u001b[0minput\u001b[0m\u001b[0;34m,\u001b[0m \u001b[0mself\u001b[0m\u001b[0;34m.\u001b[0m\u001b[0mweight\u001b[0m\u001b[0;34m,\u001b[0m \u001b[0mself\u001b[0m\u001b[0;34m.\u001b[0m\u001b[0mbias\u001b[0m\u001b[0;34m)\u001b[0m\u001b[0;34m\u001b[0m\u001b[0;34m\u001b[0m\u001b[0m\n\u001b[0m\u001b[1;32m    126\u001b[0m \u001b[0;34m\u001b[0m\u001b[0m\n\u001b[1;32m    127\u001b[0m     \u001b[0;32mdef\u001b[0m \u001b[0mextra_repr\u001b[0m\u001b[0;34m(\u001b[0m\u001b[0mself\u001b[0m\u001b[0;34m)\u001b[0m \u001b[0;34m->\u001b[0m \u001b[0mstr\u001b[0m\u001b[0;34m:\u001b[0m\u001b[0;34m\u001b[0m\u001b[0;34m\u001b[0m\u001b[0m\n",
            "\u001b[0;31mRuntimeError\u001b[0m: mat1 and mat2 shapes cannot be multiplied (2800x28 and 784x64)"
          ]
        }
      ]
    },
    {
      "cell_type": "markdown",
      "source": [
        "looks like our model is incorrectly predicting images at a higher rate then vice-versa. # TODO : dive more into this"
      ],
      "metadata": {
        "id": "_ToL_1mI2utL"
      }
    },
    {
      "cell_type": "markdown",
      "source": [],
      "metadata": {
        "id": "i9pxf7ZY4G2N"
      }
    },
    {
      "cell_type": "code",
      "source": [],
      "metadata": {
        "id": "g7W7It7B3CD0"
      },
      "execution_count": null,
      "outputs": []
    }
  ]
}